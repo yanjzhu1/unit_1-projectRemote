{
 "cells": [
  {
   "cell_type": "markdown",
   "metadata": {},
   "source": [
    "<img src=\"http://imgur.com/1ZcRyrc.png\" style=\"float: left; margin: 20px; height: 55px\">\n",
    "\n",
    "# Project 1: Python Coding Exercises\n",
    "\n",
    "_Authors: Joseph Nelson (DC) _\n",
    "---"
   ]
  },
  {
   "cell_type": "markdown",
   "metadata": {},
   "source": [
    "> **Home Assignment Completed by: Yan Zhu on 4/30/2018**"
   ]
  },
  {
   "cell_type": "markdown",
   "metadata": {},
   "source": [
    "The following code challenges are drawn from common exercises used in technical interviews.\n",
    "\n",
    "Please note that there may be several ways to approach each challenge. If you get stuck, try mapping out your approach in pseudocode first. Finally, while solutions to problems like these may be found online, remember that if you copy/paste code that you can't explain, you'll be missing out on the point of the project. The only way to truly learn a new skill is through practice, trial, and error - we can only help you improve by understanding where you are having trouble."
   ]
  },
  {
   "cell_type": "raw",
   "metadata": {},
   "source": [
    "### Challenge 1: Largest Palindrome\n",
    "A palindromic number reads the same both ways. For example, 1234321 is a palindrome. The largest palindrome made from the product of two two-digit numbers is 9009 = 91 × 99. Find the largest palindrome made from the product of two three-digit numbers. Afterward, write a brief explanation walking through your code's logic in markdown."
   ]
  },
  {
   "cell_type": "code",
   "execution_count": 13,
   "metadata": {
    "scrolled": true
   },
   "outputs": [
    {
     "name": "stdout",
     "output_type": "stream",
     "text": [
      "906609 = 993 x 913\n"
     ]
    }
   ],
   "source": [
    "#Initialize a place holder to evaulate the largest number\n",
    "largest = 0\n",
    "# iterate through first set of numbers from 100 to 1000; start with 100 because its the first 3 digit number\n",
    "for num1 in range(100,1000):\n",
    "    # iterate through second set of numbers from 100 to 1000; start with 100 because its the first 3 digit number\n",
    "    for num2 in range(100,1000):\n",
    "            # multiple num1 and num2 to find the product\n",
    "            total = num1*num2\n",
    "            # change total from integer to string for comparison\n",
    "            str_total = str(total)\n",
    "            # reverse the product to read right to left\n",
    "            rev_total = str_total[::-1]\n",
    "            # compare if the product is the same from left to right vs. right to left to determine if it's a palindrome\n",
    "            if str_total == rev_total:\n",
    "                # compare the place holder and the current product to determine which is the largest\n",
    "                if total >= largest:\n",
    "                    # placeholder for the current num1 under evaluation\n",
    "                    first_number = num1\n",
    "                    # placeholder for the current num2 under evaluation                    \n",
    "                    second_number = num2\n",
    "                    # placeholder for the current total under evaluation    \n",
    "                    largest = total\n",
    "# print the final answer identify the largest palindrome and the three digit numbers that make up the product.\n",
    "print(largest, '=', first_number, 'x', second_number)\n",
    "                \n"
   ]
  },
  {
   "cell_type": "markdown",
   "metadata": {},
   "source": [
    "\n",
    "### Challenge 2: Summation of Primes\n",
    "The sum of the primes below 10 is 2 + 3 + 5 + 7 = 17. Find the sum of all the primes below 2,000. Afterward, write a brief explanation walking through your code's logic in markdown."
   ]
  },
  {
   "cell_type": "code",
   "execution_count": 2,
   "metadata": {},
   "outputs": [
    {
     "name": "stdout",
     "output_type": "stream",
     "text": [
      "[2, 3, 5, 7, 11, 13, 17, 19, 23, 29, 31, 37, 41, 43, 47, 53, 59, 61, 67, 71, 73, 79, 83, 89, 97, 101, 103, 107, 109, 113, 127, 131, 137, 139, 149, 151, 157, 163, 167, 173, 179, 181, 191, 193, 197, 199] are prime numbers under 200\n",
      "The sum of all prime numbers under  137 is 1988 which is less than 2000.\n"
     ]
    }
   ],
   "source": [
    "# find all of the prime numbers below test_num\n",
    "test_num = 200\n",
    "# initialize prime list\n",
    "prime_list = []\n",
    "# check for all of the possible prime numbers under test num. we start with the number 2 because 1 is not a prime number\n",
    "for num in range(2, test_num):\n",
    "    # initialize prime as true as 2 is a prime number\n",
    "    prime = True\n",
    "    # check for number that is not a prime number below num\n",
    "    for i in range(2, num):\n",
    "        # if num divide by all of the number under it and has no reminder, the number is not a prime\n",
    "        if (num % i ) == 0:\n",
    "            # if it's not a prime, set prime to false\n",
    "            prime = False\n",
    "    # if prime is true, add to the prime_list\n",
    "    if (prime):\n",
    "        prime_list.append(num)\n",
    "# print prime_list\n",
    "print (prime_list, \"are prime numbers under\", test_num)\n",
    "# initital prime_total variable\n",
    "prime_total = 0\n",
    "# increment through prime_list to add all of the prime numbers\n",
    "for x in prime_list:\n",
    "    prime_total+=x\n",
    "    # test for prime_total less than 2000\n",
    "    if prime_total <= 2000:\n",
    "        # set prime_total to final_total when prime_total is less than 2000\n",
    "        final_total = prime_total\n",
    "        # set x to final_x\n",
    "        final_x = x\n",
    "# print the final answer for when prime_total is less than 2000\n",
    "print('The sum of all prime numbers under ', final_x, 'is', final_total, 'which is less than 2000.' )"
   ]
  },
  {
   "cell_type": "markdown",
   "metadata": {},
   "source": [
    "### Challenge 3: Multiples of 3 and 5\n",
    "If we list all of the natural numbers below 10 that are multiples of 3 or 5, we get 3, 5, 6, and 9. The sum of these multiples is 23. Find the sum of all the multiples of 3 and 5 below 1,000. Afterward, write a brief explanation walking through your code's logic in markdown."
   ]
  },
  {
   "cell_type": "code",
   "execution_count": 106,
   "metadata": {},
   "outputs": [
    {
     "name": "stdout",
     "output_type": "stream",
     "text": [
      "[3, 5, 6, 9, 10, 12, 15, 18, 20, 21, 24, 25, 27, 30, 33, 35, 36, 39, 40, 42, 45, 48, 50, 51, 54, 55, 57, 60, 63, 65, 66, 69, 70, 72, 75, 78, 80, 81, 84, 85, 87, 90, 93, 95, 96, 99]\n",
      "The sum of all of the multiples of 3 or 5 under 65 is  998  which is less than 1000.\n"
     ]
    }
   ],
   "source": [
    "# initialize and empty list\n",
    "list_all=[]\n",
    "# check for all numbers below 100 that are multiples of 3 or 5\n",
    "for num in range(1,100):\n",
    "    # check for condition in which one of the condition is true\n",
    "    if num % 3 == 0 or num % 5 == 0:\n",
    "        # if so, add to the list_all\n",
    "        list_all.append(num)\n",
    "# print the final list of all numbers under 100 that are multiples of 3 or 5\n",
    "print(list_all)\n",
    "# initialize a list_total variable\n",
    "list_total = 0\n",
    "# increment through list_all\n",
    "for x in list_all:\n",
    "    # add up the sum of all of the numbers in list_total\n",
    "    list_total += x\n",
    "    # check for condition when list_total is less than 1000\n",
    "    if list_total <= 1000:\n",
    "        # if true, set list_total to final_total and set x to final_x\n",
    "        final_total = list_total\n",
    "        final_x = x\n",
    "#print out the final answer in which the number below final_x are multiples of 3 or 5 and the sum of all of the numbers below is less than 1000\n",
    "print('The sum of all of the multiples of 3 or 5 under', final_x, 'is ', final_total, ' which is less than 1000.')"
   ]
  },
  {
   "cell_type": "markdown",
   "metadata": {},
   "source": [
    "### Challenge 4: String Compressor\n",
    "Implement a method to perform basic string compression using the counts of repeated characters. (This is called run-length encoding.) For example, the string \"aabcccccaaa\" would become a2b1c5a3. If the “compressed” string would not become smaller than the original string, your method should return the original string. You can assume the string has only uppercase and lowercase letters (a–z). Specify whether your solution is case sensitive or case insensitive and what you would need to change to make it the other. Afterward, write a brief explanation walking through your code's logic in markdown."
   ]
  },
  {
   "cell_type": "code",
   "execution_count": 59,
   "metadata": {},
   "outputs": [
    {
     "name": "stdout",
     "output_type": "stream",
     "text": [
      "a4b2c6a4\n",
      "a2b1c5a3\n",
      "aabc\n"
     ]
    }
   ],
   "source": [
    "# define string compressor method that takes string as its input\n",
    "def string_compressor(string):\n",
    "    #initialize empty compressed variable\n",
    "    #string = string.lower() #makes the string case insensitive
    "    compressed=''\n",
    "    #initialize repeated at 1 since we start evaluating at the second character\n",
    "    repeated=1\n",
    "    #initialize current character to equal to the first character of the string\n",
    "    current_char = string[0]\n",
    "    #increment through range from 1 to lenght of the string\n",
    "    for i in range(1, len(string)):\n",
    "        #determine if the current characte is equal to the next letter\n",
    "        if string[i] == current_char:\n",
    "            #if so, increment repeat by 1\n",
    "            repeated +=1\n",
    "            #if we reach the end of the string\n",
    "            if i == len(string)-1:\n",
    "                #concatenate the current character and the string of repeated to the compressed string\n",
    "                compressed += current_char + str(repeated)\n",
    "        #this is for the case when current character does not equal to the next character\n",
    "        else: \n",
    "            #this concatenate the current character and the string of repeated to the compressed string\n",
    "            compressed += current_char + str(repeated)\n",
    "            #reset current character variable to the next letter\n",
    "            current_char = string[i]\n",
    "            #reset the repeated counter to 1\n",
    "            repeated=1\n",
    "    #test to see if the compressed string is shorter than the original string\n",
    "    if len(compressed) < len(string):\n",
    "        #print the compressed solution\n",
    "        print(compressed)\n",
    "    #if the previous condition is not true\n",
    "    else: \n",
    "        #print the original string\n",
    "        print(string)\n",
    "#test the function using the following 3 strings\n",
    "test1 = string_compressor('aaaabbccccccaaaa')\n",
    "test2 = string_compressor('aabcccccaaa')\n",
    "test3 = string_compressor('aabc')"
   ]
  },
  {
   "cell_type": "markdown",
   "metadata": {},
   "source": [
    "### *BONUS* Challenge: FizzBuzz\n",
    "Write a program that prints all of the numbers from 1 to 100. For multiples of 3, instead of the number, print \"Fizz;\" for multiples of 5, print \"Buzz.\" For numbers that are multiples of both 3 and 5, print \"FizzBuzz.\" Afterward, write a brief explanation walking through your code's logic in markdown."
   ]
  },
  {
   "cell_type": "code",
   "execution_count": 111,
   "metadata": {},
   "outputs": [
    {
     "name": "stdout",
     "output_type": "stream",
     "text": [
      "1\n",
      "2\n",
      "Fizz\n",
      "4\n",
      "Buzz\n",
      "Fizz\n",
      "7\n",
      "8\n",
      "Fizz\n",
      "Buzz\n",
      "11\n",
      "Fizz\n",
      "13\n",
      "14\n",
      "FizzBuzz\n",
      "16\n",
      "17\n",
      "Fizz\n",
      "19\n",
      "Buzz\n",
      "Fizz\n",
      "22\n",
      "23\n",
      "Fizz\n",
      "Buzz\n",
      "26\n",
      "Fizz\n",
      "28\n",
      "29\n",
      "FizzBuzz\n",
      "31\n",
      "32\n",
      "Fizz\n",
      "34\n",
      "Buzz\n",
      "Fizz\n",
      "37\n",
      "38\n",
      "Fizz\n",
      "Buzz\n",
      "41\n",
      "Fizz\n",
      "43\n",
      "44\n",
      "FizzBuzz\n",
      "46\n",
      "47\n",
      "Fizz\n",
      "49\n",
      "Buzz\n",
      "Fizz\n",
      "52\n",
      "53\n",
      "Fizz\n",
      "Buzz\n",
      "56\n",
      "Fizz\n",
      "58\n",
      "59\n",
      "FizzBuzz\n",
      "61\n",
      "62\n",
      "Fizz\n",
      "64\n",
      "Buzz\n",
      "Fizz\n",
      "67\n",
      "68\n",
      "Fizz\n",
      "Buzz\n",
      "71\n",
      "Fizz\n",
      "73\n",
      "74\n",
      "FizzBuzz\n",
      "76\n",
      "77\n",
      "Fizz\n",
      "79\n",
      "Buzz\n",
      "Fizz\n",
      "82\n",
      "83\n",
      "Fizz\n",
      "Buzz\n",
      "86\n",
      "Fizz\n",
      "88\n",
      "89\n",
      "FizzBuzz\n",
      "91\n",
      "92\n",
      "Fizz\n",
      "94\n",
      "Buzz\n",
      "Fizz\n",
      "97\n",
      "98\n",
      "Fizz\n"
     ]
    }
   ],
   "source": [
    "#for all numbers under 100\n",
    "for num in range(1,100):\n",
    "    #initialize message\n",
    "    msg = ''\n",
    "    #check for condition when num is divisible by 3 and has no reminder\n",
    "    if num % 3 == 0:\n",
    "        #if so, add Fizz to the message\n",
    "        msg += 'Fizz'\n",
    "    #check for condition when num is divisible by 5 and has no reminder\n",
    "    if num % 5 == 0:\n",
    "        #if so, add Buzz to the message\n",
    "        msg += 'Buzz'\n",
    "    #check for condition when num is not divisible by 3 and 5.\n",
    "    if num % 5 != 0 and num % 3 != 0:\n",
    "        #if so, change number to a string\n",
    "        msg += str(num)\n",
    "    #print the entire list as we increment through each number\n",
    "    print(msg)"
   ]
  }
 ],
 "metadata": {
  "anaconda-cloud": {},
  "kernelspec": {
   "display_name": "Python 3",
   "language": "python",
   "name": "python3"
  },
  "language_info": {
   "codemirror_mode": {
    "name": "ipython",
    "version": 3
   },
   "file_extension": ".py",
   "mimetype": "text/x-python",
   "name": "python",
   "nbconvert_exporter": "python",
   "pygments_lexer": "ipython3",
   "version": "3.6.4"
  }
 },
 "nbformat": 4,
 "nbformat_minor": 2
}
